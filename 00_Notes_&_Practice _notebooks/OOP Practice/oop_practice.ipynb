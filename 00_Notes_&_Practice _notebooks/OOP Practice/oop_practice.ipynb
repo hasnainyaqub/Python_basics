{
 "cells": [
  {
   "cell_type": "markdown",
   "id": "12d1553d",
   "metadata": {},
   "source": [
    "# Class & Instance attributes"
   ]
  },
  {
   "cell_type": "code",
   "execution_count": 1,
   "id": "384c1392",
   "metadata": {},
   "outputs": [
    {
     "name": "stdout",
     "output_type": "stream",
     "text": [
      "Hasnain 66\n"
     ]
    }
   ],
   "source": [
    "class Student:\n",
    "    # defualt constructor\n",
    "    def __init__(self):\n",
    "        pass\n",
    "\n",
    "    # parameterized constructor\n",
    "    def __init__(self, fullname, marks):\n",
    "        self.name = fullname\n",
    "        self.marks = marks\n",
    "        \n",
    "        \n",
    "\n",
    "s1 = Student(\"Hasnain\", 66)\n",
    "print(s1.name, s1.marks)"
   ]
  },
  {
   "cell_type": "code",
   "execution_count": 15,
   "id": "89024795",
   "metadata": {},
   "outputs": [
    {
     "name": "stdout",
     "output_type": "stream",
     "text": [
      "Student Name : Hasnain\n",
      "Marks : 66\n",
      "College Name : M.M.S.C\n"
     ]
    }
   ],
   "source": [
    "class Student:\n",
    "    college_name = \"M.M.S.C\"\n",
    "    def __init__(self, fullname, marks):\n",
    "        self.name = fullname\n",
    "        self.marks = marks\n",
    "\n",
    "\n",
    "s1 = Student(\"Hasnain\", 66 )\n",
    "print(f'Student Name : {s1.name}\\nMarks : {s1.marks}')\n",
    "print(f'College Name : {s1.college_name}')"
   ]
  },
  {
   "cell_type": "code",
   "execution_count": null,
   "id": "c831194c",
   "metadata": {},
   "outputs": [
    {
     "name": "stdout",
     "output_type": "stream",
     "text": [
      "Student Name : Hasnain\n",
      "Marks : 66\n",
      "College Name : M.M.S.C\n",
      "------------------------\n",
      "Student Name : Hasnain\n",
      "Marks : 66\n"
     ]
    }
   ],
   "source": [
    "class Student:\n",
    "    college_name = \"M.M.S.C\"    \n",
    "    def __init__(self, fullname, marks):\n",
    "        self.name = fullname\n",
    "        self.marks = marks\n",
    "\n",
    "    def get_details(self):\n",
    "        print(f'Student Name : {self.name}\\nMarks : {self.marks}')\n",
    "        print(f'College Name : {self.college_name}')\n",
    "\n",
    "    def get_marks(self):\n",
    "        print(f'Student Name : {self.name}\\nMarks : {self.marks}')\n",
    "\n",
    "\n",
    "s1 = Student(\"Hasnain\", 66 )\n",
    "s1.get_details()\n",
    "# -----------------\n",
    "print('---'* 8)\n",
    "# -----------------\n",
    "s1.get_marks()"
   ]
  },
  {
   "cell_type": "markdown",
   "id": "05062d37",
   "metadata": {},
   "source": [
    "# Practice Question"
   ]
  },
  {
   "cell_type": "code",
   "execution_count": null,
   "id": "c56cf799",
   "metadata": {},
   "outputs": [
    {
     "name": "stdout",
     "output_type": "stream",
     "text": [
      "Hasnain [66, 77, 88]\n",
      "77.0\n"
     ]
    }
   ],
   "source": [
    "class Student:\n",
    "    def __init__(self, fullname, marks):\n",
    "        self.name = fullname\n",
    "        self.marks = marks\n",
    "\n",
    "    def get_avg(self):\n",
    "        sum = 0\n",
    "        for val in self.marks:\n",
    "            sum += val\n",
    "        print(sum/3)\n",
    "\n",
    "s1 = Student(\"Hasnain\", [66, 77, 88])\n",
    "print(s1.name, s1.marks)\n",
    "s1.get_avg()"
   ]
  },
  {
   "cell_type": "markdown",
   "id": "42e709f7",
   "metadata": {},
   "source": [
    "# Static Method"
   ]
  },
  {
   "cell_type": "code",
   "execution_count": null,
   "id": "6cc26510",
   "metadata": {},
   "outputs": [
    {
     "name": "stdout",
     "output_type": "stream",
     "text": [
      "Hasnain [66, 77, 88]\n",
      "77.0\n"
     ]
    },
    {
     "ename": "TypeError",
     "evalue": "Student.hello() takes 0 positional arguments but 1 was given",
     "output_type": "error",
     "traceback": [
      "\u001b[0;31m---------------------------------------------------------------------------\u001b[0m",
      "\u001b[0;31mTypeError\u001b[0m                                 Traceback (most recent call last)",
      "Cell \u001b[0;32mIn[20], line 19\u001b[0m\n\u001b[1;32m     16\u001b[0m \u001b[38;5;28mprint\u001b[39m(s1\u001b[38;5;241m.\u001b[39mname, s1\u001b[38;5;241m.\u001b[39mmarks)\n\u001b[1;32m     17\u001b[0m s1\u001b[38;5;241m.\u001b[39mget_avg()\n\u001b[0;32m---> 19\u001b[0m \u001b[43ms1\u001b[49m\u001b[38;5;241;43m.\u001b[39;49m\u001b[43mhello\u001b[49m\u001b[43m(\u001b[49m\u001b[43m)\u001b[49m\n",
      "\u001b[0;31mTypeError\u001b[0m: Student.hello() takes 0 positional arguments but 1 was given"
     ]
    }
   ],
   "source": [
    "class Student:\n",
    "    def __init__(self, fullname, marks):\n",
    "        self.name = fullname\n",
    "        self.marks = marks\n",
    "\n",
    "    def hello():  # static\n",
    "        print(\"Hello\")\n",
    "\n",
    "    def get_avg(self):\n",
    "        sum = 0\n",
    "        for val in self.marks:\n",
    "            sum += val\n",
    "        print(sum/3)\n",
    "\n",
    "s1 = Student(\"Hasnain\", [66, 77, 88])\n",
    "print(s1.name, s1.marks)\n",
    "s1.get_avg()\n",
    "\n",
    "s1.hello() # static "
   ]
  },
  {
   "cell_type": "code",
   "execution_count": null,
   "id": "56c30263",
   "metadata": {},
   "outputs": [
    {
     "name": "stdout",
     "output_type": "stream",
     "text": [
      "Hasnain [66, 77, 88]\n",
      "77.0\n",
      "Hello\n"
     ]
    }
   ],
   "source": [
    "class Student:\n",
    "    def __init__(self, fullname, marks):\n",
    "        self.name = fullname\n",
    "        self.marks = marks\n",
    "\n",
    "    @staticmethod # decorator\n",
    "    def hello():  # static\n",
    "        print(\"Hello\")\n",
    "\n",
    "    def get_avg(self):\n",
    "        sum = 0\n",
    "        for val in self.marks:\n",
    "            sum += val\n",
    "        print(sum/3)\n",
    "\n",
    "s1 = Student(\"Hasnain\", [66, 77, 88])\n",
    "print(s1.name, s1.marks)\n",
    "s1.get_avg()\n",
    "\n",
    "s1.hello() # static "
   ]
  },
  {
   "cell_type": "markdown",
   "id": "c073526e",
   "metadata": {},
   "source": [
    "# Important Concepts in OOP\n",
    "### Inheritance\n",
    "- Hiding the implementaion details of a class and only showing essential features to the user\n",
    "### Encapsulation\n",
    "- Hiding the implementaion details of a class and only showing essential features to the user"
   ]
  },
  {
   "cell_type": "code",
   "execution_count": null,
   "id": "e816a905",
   "metadata": {},
   "outputs": [
    {
     "name": "stdout",
     "output_type": "stream",
     "text": [
      "Car started...\n",
      "Car stoped...\n",
      "Car braked...\n"
     ]
    }
   ],
   "source": [
    "# Abstraction\n",
    "class Car:\n",
    "    def __init__(self):\n",
    "        self.acc = False \n",
    "        self.brk = False\n",
    "        self.clt = False\n",
    "    \n",
    "    def start(self):\n",
    "        self.acc = True\n",
    "        self.clt = True\n",
    "        print('Car started...')\n",
    "        \n",
    "    def stop(self):\n",
    "        self.acc = False\n",
    "        print('Car stoped...')\n",
    "        \n",
    "    def brake(self):\n",
    "        self.brk = True\n",
    "        self.acc = False\n",
    "        self.clt = False\n",
    "        print('Car braked...')\n",
    "\n",
    "c1 = Car()\n",
    "c1.start()\n",
    "c1.stop()\n",
    "c1.brake()"
   ]
  },
  {
   "cell_type": "code",
   "execution_count": 24,
   "id": "a55d9d0a",
   "metadata": {},
   "outputs": [
    {
     "name": "stdout",
     "output_type": "stream",
     "text": [
      "Hasnain [82, 61, 93]\n",
      "78.66666666666667\n"
     ]
    }
   ],
   "source": [
    "# Encapsulation\n",
    "class Student:\n",
    "    def __init__(self, fullname, marks):\n",
    "        self.name = fullname\n",
    "        self.marks = marks\n",
    "\n",
    "    def get_avg(self):\n",
    "        sum = 0\n",
    "        for val in self.marks:\n",
    "            sum += val\n",
    "        print(sum/3)\n",
    "\n",
    "s1 = Student(\"Hasnain\", [82, 61, 93])\n",
    "print(s1.name, s1.marks)\n",
    "s1.get_avg()"
   ]
  },
  {
   "cell_type": "markdown",
   "id": "69ffaa53",
   "metadata": {},
   "source": [
    "# Practice Question \n",
    "- Create Account Class with 2 attributes - balance and account number\n",
    "- Create 2 methods - creditAmount and debitAmount | Print the remaining balance"
   ]
  },
  {
   "cell_type": "code",
   "execution_count": 38,
   "id": "62b0fca7",
   "metadata": {},
   "outputs": [
    {
     "name": "stdout",
     "output_type": "stream",
     "text": [
      "Account Number : 999307\n",
      "Name : Hasnain\n",
      "Balance : 10830\n",
      "------------------------------\n",
      "20000 deposited successfully. \n",
      " Your remaining balance is 30830\n",
      "------------------------------\n",
      "3000 withdraw successfully. \n",
      " Your remaining balance is 27830\n"
     ]
    }
   ],
   "source": [
    "class Account:\n",
    "    def __init__(self, accno,name, balance):\n",
    "        self.accno = accno\n",
    "        self.name = name\n",
    "        self.balance = balance\n",
    "\n",
    "    def get_balance(self):\n",
    "        return self.balance\n",
    "\n",
    "    def deposit(self, amount):\n",
    "        self.balance += amount\n",
    "        print(f\"{amount} deposited successfully. \\n Your remaining balance is {self.balance}\")\n",
    "\n",
    "    def withdraw(self, amount):\n",
    "        self.balance -= amount\n",
    "        print(f\"{amount} withdraw successfully. \\n Your remaining balance is {self.balance}\")\n",
    "\n",
    "customer_details = ((int(input(\"Enter your account number : \"))),input(\"Enter your name : \"),int(input(\"Enter your balance : \")))\n",
    "\n",
    "acc1 = Account(*customer_details)\n",
    "print(f'Account Number : {acc1.accno}\\nName : {acc1.name}\\nBalance : {acc1.balance}')\n",
    "print('---'* 10)\n",
    "acc1.deposit(20000)\n",
    "print('---'* 10)\n",
    "acc1.withdraw(3000)"
   ]
  }
 ],
 "metadata": {
  "kernelspec": {
   "display_name": "tf_env",
   "language": "python",
   "name": "python3"
  },
  "language_info": {
   "codemirror_mode": {
    "name": "ipython",
    "version": 3
   },
   "file_extension": ".py",
   "mimetype": "text/x-python",
   "name": "python",
   "nbconvert_exporter": "python",
   "pygments_lexer": "ipython3",
   "version": "3.10.18"
  }
 },
 "nbformat": 4,
 "nbformat_minor": 5
}
