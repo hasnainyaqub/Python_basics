{
 "cells": [
  {
   "cell_type": "markdown",
   "id": "fd05f157",
   "metadata": {},
   "source": [
    "# del keyword\n",
    "- Used to delete properties or object itself.\n",
    "- del s1.name\n",
    "- del s1"
   ]
  },
  {
   "cell_type": "code",
   "execution_count": 7,
   "id": "4af012d2",
   "metadata": {},
   "outputs": [
    {
     "data": {
      "text/plain": [
       "'Hasnain'"
      ]
     },
     "execution_count": 7,
     "metadata": {},
     "output_type": "execute_result"
    }
   ],
   "source": [
    "class Student:\n",
    "    def __init__(self, name):\n",
    "        self.name = name\n",
    "\n",
    "s1 = Student('Hasnain')\n",
    "s1.name\n"
   ]
  },
  {
   "cell_type": "code",
   "execution_count": 9,
   "id": "a7ca9d4d",
   "metadata": {},
   "outputs": [
    {
     "ename": "NameError",
     "evalue": "name 's1' is not defined",
     "output_type": "error",
     "traceback": [
      "\u001b[0;31m---------------------------------------------------------------------------\u001b[0m",
      "\u001b[0;31mNameError\u001b[0m                                 Traceback (most recent call last)",
      "Cell \u001b[0;32mIn[9], line 1\u001b[0m\n\u001b[0;32m----> 1\u001b[0m \u001b[38;5;28;01mdel\u001b[39;00m s1 \u001b[38;5;66;03m# deleting the object\u001b[39;00m\n\u001b[1;32m      2\u001b[0m s1\u001b[38;5;241m.\u001b[39mname\n",
      "\u001b[0;31mNameError\u001b[0m: name 's1' is not defined"
     ]
    }
   ],
   "source": [
    "del s1 # deleting the object\n",
    "s1.name"
   ]
  }
 ],
 "metadata": {
  "kernelspec": {
   "display_name": "tf_env",
   "language": "python",
   "name": "python3"
  },
  "language_info": {
   "codemirror_mode": {
    "name": "ipython",
    "version": 3
   },
   "file_extension": ".py",
   "mimetype": "text/x-python",
   "name": "python",
   "nbconvert_exporter": "python",
   "pygments_lexer": "ipython3",
   "version": "3.10.18"
  }
 },
 "nbformat": 4,
 "nbformat_minor": 5
}
