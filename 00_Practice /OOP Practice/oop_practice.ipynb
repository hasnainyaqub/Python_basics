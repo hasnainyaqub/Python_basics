{
 "cells": [
  {
   "cell_type": "markdown",
   "id": "12d1553d",
   "metadata": {},
   "source": [
    "# Class & Instance attributes"
   ]
  },
  {
   "cell_type": "code",
   "execution_count": 1,
   "id": "384c1392",
   "metadata": {},
   "outputs": [
    {
     "name": "stdout",
     "output_type": "stream",
     "text": [
      "Hasnain 66\n"
     ]
    }
   ],
   "source": [
    "class Student:\n",
    "    # defualt constructor\n",
    "    def __init__(self):\n",
    "        pass\n",
    "\n",
    "    # parameterized constructor\n",
    "    def __init__(self, fullname, marks):\n",
    "        self.name = fullname\n",
    "        self.marks = marks\n",
    "        \n",
    "        \n",
    "\n",
    "s1 = Student(\"Hasnain\", 66)\n",
    "print(s1.name, s1.marks)"
   ]
  },
  {
   "cell_type": "code",
   "execution_count": 15,
   "id": "89024795",
   "metadata": {},
   "outputs": [
    {
     "name": "stdout",
     "output_type": "stream",
     "text": [
      "Student Name : Hasnain\n",
      "Marks : 66\n",
      "College Name : M.M.S.C\n"
     ]
    }
   ],
   "source": [
    "class Student:\n",
    "    college_name = \"M.M.S.C\"\n",
    "    def __init__(self, fullname, marks):\n",
    "        self.name = fullname\n",
    "        self.marks = marks\n",
    "\n",
    "\n",
    "s1 = Student(\"Hasnain\", 66 )\n",
    "print(f'Student Name : {s1.name}\\nMarks : {s1.marks}')\n",
    "print(f'College Name : {s1.college_name}')"
   ]
  },
  {
   "cell_type": "markdown",
   "id": "f18ca637",
   "metadata": {},
   "source": [
    "# Methods"
   ]
  },
  {
   "cell_type": "code",
   "execution_count": null,
   "id": "c831194c",
   "metadata": {},
   "outputs": [],
   "source": []
  }
 ],
 "metadata": {
  "kernelspec": {
   "display_name": "tf_env",
   "language": "python",
   "name": "python3"
  },
  "language_info": {
   "codemirror_mode": {
    "name": "ipython",
    "version": 3
   },
   "file_extension": ".py",
   "mimetype": "text/x-python",
   "name": "python",
   "nbconvert_exporter": "python",
   "pygments_lexer": "ipython3",
   "version": "3.10.18"
  }
 },
 "nbformat": 4,
 "nbformat_minor": 5
}
