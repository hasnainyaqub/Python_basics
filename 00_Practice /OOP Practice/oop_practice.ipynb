{
 "cells": [
  {
   "cell_type": "markdown",
   "id": "12d1553d",
   "metadata": {},
   "source": [
    "# Class & Instance attributes"
   ]
  },
  {
   "cell_type": "code",
   "execution_count": 1,
   "id": "384c1392",
   "metadata": {},
   "outputs": [
    {
     "name": "stdout",
     "output_type": "stream",
     "text": [
      "Hasnain 66\n"
     ]
    }
   ],
   "source": [
    "class Student:\n",
    "    # defualt constructor\n",
    "    def __init__(self):\n",
    "        pass\n",
    "\n",
    "    # parameterized constructor\n",
    "    def __init__(self, fullname, marks):\n",
    "        self.name = fullname\n",
    "        self.marks = marks\n",
    "        \n",
    "        \n",
    "\n",
    "s1 = Student(\"Hasnain\", 66)\n",
    "print(s1.name, s1.marks)"
   ]
  },
  {
   "cell_type": "code",
   "execution_count": 15,
   "id": "89024795",
   "metadata": {},
   "outputs": [
    {
     "name": "stdout",
     "output_type": "stream",
     "text": [
      "Student Name : Hasnain\n",
      "Marks : 66\n",
      "College Name : M.M.S.C\n"
     ]
    }
   ],
   "source": [
    "class Student:\n",
    "    college_name = \"M.M.S.C\"\n",
    "    def __init__(self, fullname, marks):\n",
    "        self.name = fullname\n",
    "        self.marks = marks\n",
    "\n",
    "\n",
    "s1 = Student(\"Hasnain\", 66 )\n",
    "print(f'Student Name : {s1.name}\\nMarks : {s1.marks}')\n",
    "print(f'College Name : {s1.college_name}')"
   ]
  },
  {
   "cell_type": "code",
   "execution_count": null,
   "id": "c831194c",
   "metadata": {},
   "outputs": [
    {
     "name": "stdout",
     "output_type": "stream",
     "text": [
      "Student Name : Hasnain\n",
      "Marks : 66\n",
      "College Name : M.M.S.C\n",
      "------------------------\n",
      "Student Name : Hasnain\n",
      "Marks : 66\n"
     ]
    }
   ],
   "source": [
    "class Student:\n",
    "    college_name = \"M.M.S.C\"    \n",
    "    def __init__(self, fullname, marks):\n",
    "        self.name = fullname\n",
    "        self.marks = marks\n",
    "\n",
    "    def get_details(self):\n",
    "        print(f'Student Name : {self.name}\\nMarks : {self.marks}')\n",
    "        print(f'College Name : {self.college_name}')\n",
    "\n",
    "    def get_marks(self):\n",
    "        print(f'Student Name : {self.name}\\nMarks : {self.marks}')\n",
    "\n",
    "\n",
    "s1 = Student(\"Hasnain\", 66 )\n",
    "s1.get_details()\n",
    "# -----------------\n",
    "print('---'* 8)\n",
    "# -----------------\n",
    "s1.get_marks()"
   ]
  },
  {
   "cell_type": "markdown",
   "id": "05062d37",
   "metadata": {},
   "source": [
    "# Practice Question"
   ]
  },
  {
   "cell_type": "code",
   "execution_count": null,
   "id": "c56cf799",
   "metadata": {},
   "outputs": [
    {
     "name": "stdout",
     "output_type": "stream",
     "text": [
      "Hasnain [66, 77, 88]\n",
      "77.0\n"
     ]
    }
   ],
   "source": [
    "class Student:\n",
    "    def __init__(self, fullname, marks):\n",
    "        self.name = fullname\n",
    "        self.marks = marks\n",
    "\n",
    "    def get_avg(self):\n",
    "        sum = 0\n",
    "        for val in self.marks:\n",
    "            sum += val\n",
    "        print(sum/3)\n",
    "\n",
    "s1 = Student(\"Hasnain\", [66, 77, 88])\n",
    "print(s1.name, s1.marks)\n",
    "s1.get_avg()"
   ]
  },
  {
   "cell_type": "markdown",
   "id": "42e709f7",
   "metadata": {},
   "source": [
    "# Static Method"
   ]
  },
  {
   "cell_type": "code",
   "execution_count": null,
   "id": "6cc26510",
   "metadata": {},
   "outputs": [
    {
     "name": "stdout",
     "output_type": "stream",
     "text": [
      "Hasnain [66, 77, 88]\n",
      "77.0\n"
     ]
    },
    {
     "ename": "TypeError",
     "evalue": "Student.hello() takes 0 positional arguments but 1 was given",
     "output_type": "error",
     "traceback": [
      "\u001b[0;31m---------------------------------------------------------------------------\u001b[0m",
      "\u001b[0;31mTypeError\u001b[0m                                 Traceback (most recent call last)",
      "Cell \u001b[0;32mIn[20], line 19\u001b[0m\n\u001b[1;32m     16\u001b[0m \u001b[38;5;28mprint\u001b[39m(s1\u001b[38;5;241m.\u001b[39mname, s1\u001b[38;5;241m.\u001b[39mmarks)\n\u001b[1;32m     17\u001b[0m s1\u001b[38;5;241m.\u001b[39mget_avg()\n\u001b[0;32m---> 19\u001b[0m \u001b[43ms1\u001b[49m\u001b[38;5;241;43m.\u001b[39;49m\u001b[43mhello\u001b[49m\u001b[43m(\u001b[49m\u001b[43m)\u001b[49m\n",
      "\u001b[0;31mTypeError\u001b[0m: Student.hello() takes 0 positional arguments but 1 was given"
     ]
    }
   ],
   "source": [
    "class Student:\n",
    "    def __init__(self, fullname, marks):\n",
    "        self.name = fullname\n",
    "        self.marks = marks\n",
    "\n",
    "    def hello():  # static\n",
    "        print(\"Hello\")\n",
    "\n",
    "    def get_avg(self):\n",
    "        sum = 0\n",
    "        for val in self.marks:\n",
    "            sum += val\n",
    "        print(sum/3)\n",
    "\n",
    "s1 = Student(\"Hasnain\", [66, 77, 88])\n",
    "print(s1.name, s1.marks)\n",
    "s1.get_avg()\n",
    "\n",
    "s1.hello() # static "
   ]
  },
  {
   "cell_type": "code",
   "execution_count": null,
   "id": "56c30263",
   "metadata": {},
   "outputs": [
    {
     "name": "stdout",
     "output_type": "stream",
     "text": [
      "Hasnain [66, 77, 88]\n",
      "77.0\n",
      "Hello\n"
     ]
    }
   ],
   "source": [
    "class Student:\n",
    "    def __init__(self, fullname, marks):\n",
    "        self.name = fullname\n",
    "        self.marks = marks\n",
    "\n",
    "    @staticmethod # decorator\n",
    "    def hello():  # static\n",
    "        print(\"Hello\")\n",
    "\n",
    "    def get_avg(self):\n",
    "        sum = 0\n",
    "        for val in self.marks:\n",
    "            sum += val\n",
    "        print(sum/3)\n",
    "\n",
    "s1 = Student(\"Hasnain\", [66, 77, 88])\n",
    "print(s1.name, s1.marks)\n",
    "s1.get_avg()\n",
    "\n",
    "s1.hello() # static "
   ]
  }
 ],
 "metadata": {
  "kernelspec": {
   "display_name": "tf_env",
   "language": "python",
   "name": "python3"
  },
  "language_info": {
   "codemirror_mode": {
    "name": "ipython",
    "version": 3
   },
   "file_extension": ".py",
   "mimetype": "text/x-python",
   "name": "python",
   "nbconvert_exporter": "python",
   "pygments_lexer": "ipython3",
   "version": "3.10.18"
  }
 },
 "nbformat": 4,
 "nbformat_minor": 5
}
